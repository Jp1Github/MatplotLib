{
 "cells": [
  {
   "cell_type": "markdown",
   "id": "a63a62c6-0cf9-4998-8dd7-0a74128a23f8",
   "metadata": {},
   "source": [
    "# Create a Stack Plots"
   ]
  },
  {
   "cell_type": "code",
   "execution_count": 2,
   "id": "6f11bfc5",
   "metadata": {},
   "outputs": [],
   "source": [
    "''' Used JupyterLabs for this code writing'''\n",
    "import matplotlib.pyplot as plt\n",
    "# or\n",
    "# from matplotlib import pyplot as plt"
   ]
  },
  {
   "cell_type": "markdown",
   "id": "7637b9c0-2a4d-4139-986a-dd556e392ca6",
   "metadata": {},
   "source": [
    "## Data"
   ]
  },
  {
   "cell_type": "code",
   "execution_count": 2,
   "id": "5cbc78b8-52be-472f-8926-3d25e8eda2b7",
   "metadata": {},
   "outputs": [],
   "source": [
    "hours = [0, 1, 2, 3, 4, 5, 6, 7, 8, 9, 10]\n",
    "\n",
    "# Each Area\n",
    "Area_1 = [1, 2, 2, 3, 3, 3, 4, 4, 5, 7, 8]\n",
    "Area_2 = [1, 2, 3, 3, 3, 3, 4, 5, 8, 9, 10]\n",
    "Area_3 = [2, 3, 4, 5, 6, 7, 7, 8, 9, 9, 10]\n",
    "\n",
    "# The x and y should have the same length. Otherwise it will throw an error!"
   ]
  },
  {
   "cell_type": "markdown",
   "id": "deeb969b-00e3-4b59-a38b-aebb3b207dc7",
   "metadata": {},
   "source": [
    "## Label and colors"
   ]
  },
  {
   "cell_type": "code",
   "execution_count": 8,
   "id": "822f2c59-0c16-4665-8c91-76c6cbb33a14",
   "metadata": {},
   "outputs": [],
   "source": [
    "# Create legend label for each area\n",
    "labels = ['Area_1', 'Area_2', 'Area_3']\n",
    "\n",
    "# Add a color\n",
    "# colors = ['Red', 'Green', 'Blue']\n",
    "colors = ['#404258', '#A7D129', '#F0FF42'] # Grey, Light Green, Light Yellow "
   ]
  },
  {
   "cell_type": "markdown",
   "id": "0fca621d-d223-4acf-a7e2-c14421941687",
   "metadata": {},
   "source": [
    "## Code"
   ]
  },
  {
   "cell_type": "code",
   "execution_count": 9,
   "id": "fd67bef3-9998-4b4a-bef4-25c3547a87d8",
   "metadata": {},
   "outputs": [
    {
     "data": {
      "image/png": "[encoded data removed]",
      "text/plain": [
       "<Figure size 640x480 with 1 Axes>"
      ]
     },
     "metadata": {},
     "output_type": "display_data"
    }
   ],
   "source": [
    "# Stackplot\n",
    "# stackplot(x, y)           # where y has shape (M, N)\n",
    "# stackplot(x, y1, y2, y3)  # where y1, y2, y3, y4 have length N\n",
    "\n",
    "# plt.stackplot(hours, Area_1, Area_2, Area_3, labels=labels)\n",
    "plt.stackplot(hours, Area_1, Area_2, Area_3, labels = labels, colors = colors)\n",
    "\n",
    "\n",
    "# Location of a legent\n",
    "plt.legend(loc='upper left')\n",
    "# plt.legend(loc=legend_pos[position]) # See formatting of plot legend cell\n",
    "plt.title(\"StackPlot Sample\")\n",
    "plt.show()"
   ]
  },
  {
   "cell_type": "markdown",
   "id": "2d479b29-e990-47f3-89eb-7ab3214d0c91",
   "metadata": {},
   "source": [
    "## Some formatting of plot legend"
   ]
  },
  {
   "cell_type": "code",
   "execution_count": null,
   "id": "1f592d1c-6c57-4569-92b2-5b824c5491be",
   "metadata": {},
   "outputs": [],
   "source": [
    "# plt.legend(loc='upper left')\n",
    "# loc='best', bbox_to_anchor=(0.5, 0., 0.5, 0.5)\n",
    "# loc='upper right', bbox_to_anchor=(0.5, 0.5)\n",
    "\n",
    "# plt.legend()\n",
    "legend_pos= {0:'best', 1:'upper right', 2:'upper left', \n",
    "             3:'lower left' , 4:'lower right', 5:'right', \n",
    "             6:'center left', 7:'center right',\n",
    "             8 :'lower center', 9:'upper center', 10:'center'}\n",
    "\n",
    "position = 2\n",
    "\n",
    "# https://matplotlib.org/stable/api/_as_gen/matplotlib.pyplot.legend.html"
   ]
  },
  {
   "cell_type": "markdown",
   "id": "9d037f87-9903-4f6a-acb7-39ff102f2903",
   "metadata": {},
   "source": [
    "# Color Palletes Samples"
   ]
  },
  {
   "cell_type": "code",
   "execution_count": null,
   "id": "1823e914-2eaa-416f-952d-8dabbdf35121",
   "metadata": {},
   "outputs": [],
   "source": [
    "# Color Hex\n",
    "# Light Blue #146C94\n",
    "# Light Red #F45050\n",
    "# Light Orange #F97B22\n",
    "# Light Yellow #F7D060\n",
    "# Light Yellow #FFD717\n",
    "# Light Yellow #F0FF42\n",
    "# Light Green #1B9C85\n",
    "# Light Green #A7D129\n",
    "# Mint Green #C6DE41\n",
    "# Light Beige #867070\n",
    "\n",
    "# Dark Brown #483434\n",
    "# Violet/Purple #810CA8\n",
    "# Dark Grey #404258\n",
    "# Medium Red #DA0037"
   ]
  },
  {
   "cell_type": "markdown",
   "id": "e3de8c15-09c2-40b1-a4e8-095627907f00",
   "metadata": {},
   "source": [
    "# Samples of color style format"
   ]
  },
  {
   "cell_type": "code",
   "execution_count": null,
   "id": "6bbcbbf7-6df6-4674-9eac-9ecbdd06c3cf",
   "metadata": {},
   "outputs": [],
   "source": [
    "\n",
    "'''To use the available style'''\n",
    "# plt.style.use('seaborn-v0_8-darkgrid')\n",
    "# plt.style.use('tableau-colorblind10')\n",
    "# plt.style.use('fivethirtyeight')\n",
    "# plt.style.use('seaborn-v0_8-colorblind')\n",
    "# plt.style.use('seaborn-v0_8-pastel')\n",
    "# plt.style.use('seaborn-v0_8-dark-palette')\n",
    "# plt.style.use('seaborn-v0_8-dark')\n",
    "# plt.style.use('ggplot')\n",
    "# plt.style.use('classic')\n",
    "# plt.style.use('seaborn-v0_8-notebook')\n",
    "# plt.style.use('seaborn-v0_8-talk')\n",
    "# plt.xkcd() -- Handwritten"
   ]
  }
 ],
 "metadata": {
  "kernelspec": {
   "display_name": "Python 3 (ipykernel)",
   "language": "python",
   "name": "python3"
  },
  "language_info": {
   "codemirror_mode": {
    "name": "ipython",
    "version": 3
   },
   "file_extension": ".py",
   "mimetype": "text/x-python",
   "name": "python",
   "nbconvert_exporter": "python",
   "pygments_lexer": "ipython3",
   "version": "3.10.11"
  }
 },
 "nbformat": 4,
 "nbformat_minor": 5
}
